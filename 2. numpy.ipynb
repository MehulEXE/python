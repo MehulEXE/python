{
 "cells": [
  {
   "cell_type": "code",
   "execution_count": null,
   "id": "4b63d4d2",
   "metadata": {},
   "outputs": [
    {
     "name": "stdout",
     "output_type": "stream",
     "text": [
      "1.26.4\n"
     ]
    }
   ],
   "source": [
    "import numpy as np\n",
    "print(np.__version__)\n",
    "'''NP is basically used to worK\n",
    "    with ARRAYS    '''"
   ]
  },
  {
   "cell_type": "code",
   "execution_count": 47,
   "id": "c828c132",
   "metadata": {},
   "outputs": [
    {
     "name": "stdout",
     "output_type": "stream",
     "text": [
      "1 , 0 ,EYE\n",
      "\n",
      "[0. 0. 0.] \n",
      "[1. 1. 1.] \n",
      "\n",
      "[[1. 0. 0.]\n",
      " [0. 1. 0.]\n",
      " [0. 0. 1.]] \n",
      "\n"
     ]
    }
   ],
   "source": [
    "#creating arrays\n",
    "lst=[1,2,5,7,3,45,23,78,45]#1-D array\n",
    "lst1=np.array(lst)\n",
    "lst2= np.array([(1,2,3),(4,5,6)])\n",
    "print(\"1 , 0 ,EYE\\n\")\n",
    "print(np.zeros(3),'')\n",
    "print(np.ones(3),'\\n')\n",
    "print(np.eye(3),'\\n')"
   ]
  },
  {
   "cell_type": "code",
   "execution_count": 24,
   "id": "148f5226",
   "metadata": {},
   "outputs": [
    {
     "name": "stdout",
     "output_type": "stream",
     "text": [
      "CREATION TOOLS\n"
     ]
    },
    {
     "data": {
      "text/plain": [
       "array([[1, 1, 0, 0],\n",
       "       [0, 2, 1, 2],\n",
       "       [4, 4, 2, 3],\n",
       "       [0, 2, 4, 2]])"
      ]
     },
     "execution_count": 24,
     "metadata": {},
     "output_type": "execute_result"
    }
   ],
   "source": [
    "print('CREATION TOOLS')\n",
    "np.linspace(0,5,100)             #linspace(start, element ,end)\n",
    "np.arange(0,10,3)                #arange (start, end ,gap)\n",
    "np.full((2,3),7)                 #creates 2X3 FULL of 7\n",
    "np.random.rand(4,5)              #4 X 5 b\\w 0-1\n",
    "np.random.rand(4,5)*100          #4X5 b/w 0-100\n",
    "np.random.randint(5,size=(4,4))  #int val B\\W 0-(N-1)\n"
   ]
  },
  {
   "cell_type": "code",
   "execution_count": 41,
   "id": "329f963d",
   "metadata": {},
   "outputs": [
    {
     "name": "stdout",
     "output_type": "stream",
     "text": [
      "PROPERTIES\n"
     ]
    },
    {
     "data": {
      "text/plain": [
       "[[1, 2, 3], [4, 5, 6]]"
      ]
     },
     "execution_count": 41,
     "metadata": {},
     "output_type": "execute_result"
    }
   ],
   "source": [
    "print(\"PROPERTIES\")\n",
    "lst1.size       #no of elements\n",
    "lst2.shape      #dimension of arr\n",
    "lst1.dtype      #data type of arr\n",
    "\n",
    "lst2.astype(float) #convert data type\n",
    "lst2.tolist()       #convert to list"
   ]
  },
  {
   "cell_type": "code",
   "execution_count": null,
   "id": "69c7dfb3",
   "metadata": {},
   "outputs": [],
   "source": [
    "'''SORTING  RESHAPING'''\n",
    "lst1.sort()\n",
    "lst2.sort(axis=1)\n",
    "\n",
    "lst2.flatten()    #convet 2-D into 1-D\n",
    "lst2.T            #gives the transpose no bractekt req\n",
    "# lst1.size\n",
    "lst1.reshape(3,3) #reshape 1-D to 2-D (no of ele should match)"
   ]
  },
  {
   "cell_type": "code",
   "execution_count": 69,
   "id": "32af5979",
   "metadata": {},
   "outputs": [
    {
     "data": {
      "text/plain": [
       "[array([[1, 2, 3],\n",
       "        [4, 5, 6]])]"
      ]
     },
     "execution_count": 69,
     "metadata": {},
     "output_type": "execute_result"
    }
   ],
   "source": [
    "'''ADDING REMOVING SPLITING'''\n",
    "np.append(lst1,values=[23,34])\n",
    "np.insert(lst2,5,values=[23,34])\n",
    "\n",
    "np.delete(lst1,2,axis=0)        #delete(name ,index,axis=0/1)\n",
    "np.delete(lst1,2,axis=1)        #axis=0'rows';axis=1'column'\n",
    "\n",
    "a=np.split(lst1,3)        #split into 3 sub arrays\n",
    "np.hsplit(lst2,1)       #split horizontally on 4th index"
   ]
  },
  {
   "cell_type": "code",
   "execution_count": 91,
   "id": "8d4c2177",
   "metadata": {},
   "outputs": [
    {
     "data": {
      "text/plain": [
       "array([[1.        , 1.41421356, 1.73205081],\n",
       "       [2.23606798, 2.64575131, 4.79583152],\n",
       "       [6.70820393, 6.70820393, 8.83176087]])"
      ]
     },
     "execution_count": 91,
     "metadata": {},
     "output_type": "execute_result"
    }
   ],
   "source": [
    "'''SCALLER MATH'''\n",
    "np.add(lst1,12)     #add +12 to each element\n",
    "# same work with substract,multiply,divide,power\n",
    "\n",
    "'''VECTOR MATH'''\n",
    "np.add(lst1,lst3)  #element wise addition  \n",
    "# same work with substract,multiply,divide,power\n",
    "\n",
    "'''SCIENTIFIC MATH'''\n",
    "np.sqrt(lst1)\n",
    "# work same with sin,log,abs,ceill,floor,round"
   ]
  }
 ],
 "metadata": {
  "kernelspec": {
   "display_name": "Python 3",
   "language": "python",
   "name": "python3"
  },
  "language_info": {
   "codemirror_mode": {
    "name": "ipython",
    "version": 3
   },
   "file_extension": ".py",
   "mimetype": "text/x-python",
   "name": "python",
   "nbconvert_exporter": "python",
   "pygments_lexer": "ipython3",
   "version": "3.11.9"
  }
 },
 "nbformat": 4,
 "nbformat_minor": 5
}
