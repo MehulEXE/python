{
 "cells": [
  {
   "cell_type": "code",
   "execution_count": null,
   "id": "6203f777",
   "metadata": {},
   "outputs": [],
   "source": [
    "import matplotlib.pyplot as plt\n",
    "import numpy as np\n",
    "import math\n",
    "print('import sussesful')"
   ]
  },
  {
   "cell_type": "code",
   "execution_count": null,
   "id": "4c5fadf1",
   "metadata": {},
   "outputs": [],
   "source": [
    "x=np.random.randint(0,10+1,size=(10))\n",
    "y=np.arange(10,20)\n",
    "np.size(y)"
   ]
  },
  {
   "cell_type": "code",
   "execution_count": null,
   "id": "2d7792d0",
   "metadata": {},
   "outputs": [],
   "source": [
    "b=[\"C0\",\"C1\",\"C2\",\"C3\",\"C4\",\"C5\",\"C6\",\"C7\",\"C8\",\"C9\"]\n",
    "plt.scatter(x,y,s=100,c=b,marker='p') #C=Coluour   #s=size of marker \n",
    "plt.xlabel('x-axis')\n",
    "plt.ylabel('y-axis')\n",
    "plt.title('star graph')"
   ]
  },
  {
   "cell_type": "code",
   "execution_count": null,
   "id": "dce2c873",
   "metadata": {},
   "outputs": [],
   "source": [
    "pi=math.pi\n",
    "a=np.linspace(0,2*pi,100)\n",
    "r= int(input(\"radious =\"))\n",
    "\n",
    "m=np.multiply(np.cos(a),r)\n",
    "n=np.multiply(np.sin(a),r)\n",
    "\n",
    "plt.plot(m,n,c=\"#06b340\",lw=3)\n",
    "plt.xlabel('x-axis')\n",
    "plt.ylabel('y-axis')\n",
    "plt.title(\"circle in python\")\n",
    "plt.axis('equal')\n",
    "plt.show()"
   ]
  },
  {
   "cell_type": "code",
   "execution_count": null,
   "id": "ecbdf8fd",
   "metadata": {},
   "outputs": [],
   "source": [
    "plt.scatter(m, n, c=a, cmap='viridis', s=100)\n",
    "plt.xlabel('x-axis')\n",
    "plt.ylabel('y-axis')\n",
    "plt.title(\"circle with gradient color\")\n",
    "plt.axis('equal')\n",
    "plt.show()"
   ]
  },
  {
   "cell_type": "code",
   "execution_count": null,
   "id": "6ef46404",
   "metadata": {},
   "outputs": [],
   "source": [
    "a = np.linspace(-20, 20, 40)\n",
    "b = 12 * a**2 + 3 * a + 15\n",
    "\n",
    "plt.plot(a, b, 'r--', label='Parabola')\n",
    "plt.plot(a, b, 'bo', label='Points')\n",
    "plt.xlabel('a')\n",
    "plt.ylabel('b')\n",
    "plt.title('Parabola: b = 12*a^2 + 3*a + 15')\n",
    "plt.legend()\n",
    "plt.grid(True)\n",
    "plt.show()"
   ]
  },
  {
   "cell_type": "code",
   "execution_count": null,
   "id": "07e26861",
   "metadata": {},
   "outputs": [],
   "source": [
    "data=[12,20,32,4,65,82,34,19,64,53,86,69]\n",
    "data2=[1,2,3,4,5,6,7,8,9,10,11,12]\n",
    "plt.hist(data)"
   ]
  },
  {
   "cell_type": "code",
   "execution_count": 166,
   "id": "37858d26",
   "metadata": {},
   "outputs": [
    {
     "data": {
      "image/png": "[encoded data removed]",
      "text/plain": [
       "<Figure size 640x480 with 1 Axes>"
      ]
     },
     "metadata": {},
     "output_type": "display_data"
    }
   ],
   "source": [
    "\n",
    "plt.bar(range(12),data,color='C4')\n",
    "plt.bar(range(12),data2,color='C6',bottom=data)\n",
    "plt.show()"
   ]
  },
  {
   "cell_type": "code",
   "execution_count": null,
   "id": "50743856",
   "metadata": {},
   "outputs": [],
   "source": []
  }
 ],
 "metadata": {
  "kernelspec": {
   "display_name": "Python 3",
   "language": "python",
   "name": "python3"
  },
  "language_info": {
   "codemirror_mode": {
    "name": "ipython",
    "version": 3
   },
   "file_extension": ".py",
   "mimetype": "text/x-python",
   "name": "python",
   "nbconvert_exporter": "python",
   "pygments_lexer": "ipython3",
   "version": "3.11.9"
  }
 },
 "nbformat": 4,
 "nbformat_minor": 5
}
